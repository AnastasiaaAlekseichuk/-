{
  "nbformat": 4,
  "nbformat_minor": 0,
  "metadata": {
    "colab": {
      "name": "6 лаба",
      "provenance": [],
      "authorship_tag": "ABX9TyPVW/cz2doOkSlwAh7wJgS9",
      "include_colab_link": true
    },
    "kernelspec": {
      "name": "python3",
      "display_name": "Python 3"
    }
  },
  "cells": [
    {
      "cell_type": "markdown",
      "metadata": {
        "id": "view-in-github",
        "colab_type": "text"
      },
      "source": [
        "<a href=\"https://colab.research.google.com/github/AnastasiaaAlekseichuk/-/blob/main/6_%D0%BB%D0%B0%D0%B1%D0%B0.ipynb\" target=\"_parent\"><img src=\"https://colab.research.google.com/assets/colab-badge.svg\" alt=\"Open In Colab\"/></a>"
      ]
    },
    {
      "cell_type": "markdown",
      "metadata": {
        "id": "_CKlsB8fvu-w"
      },
      "source": [
        "Для задач 6.2.1-6.2.7 ответьте на следующие вопросы:\n",
        "\n",
        "Что выполняет приведенная функция?\n",
        "\n",
        "Какова вычислительная сложность алгоритма (наихудшая оценка, 𝑂-нотацию)?\n",
        "\n",
        "Ответы необходимо указать в строке документации с пометкой «Алгоритм» и «Сложность» соответственно. "
      ]
    },
    {
      "cell_type": "code",
      "metadata": {
        "id": "HPCQQOmsvMyK",
        "colab": {
          "base_uri": "https://localhost:8080/"
        },
        "outputId": "48380fc5-8b86-4263-e94d-9bacdf84feb5"
      },
      "source": [
        "# Программирование на языке высокого уровня (Python).\n",
        "# https://www.yuripetrov.ru/edu/python\n",
        "# Задание task_06_02_01.\n",
        "#\n",
        "# Выполнил: Алексейчук А. А.\n",
        "# Группа: АДЭУ-201\n",
        "# E-mail: !!!\n",
        "\n",
        "def foo(a):\n",
        "    \"\"\"Алгоритм:  \n",
        "   Занимается сортировкой списка по возрастанию\n",
        "\n",
        "    Сложность: O(N) * O(N) * (O(1) + O(1)) = O(N^2).\n",
        "    \"\"\"\n",
        "    for i in range(len(a), 0, -1):  # O(N)   \n",
        "        for j in range(1, i):       # O(N)\n",
        "            if a[j-1] > a[j]:       # O(1)\n",
        "                a[j-1], a[j] = a[j], a[j-1] #O(1)\n",
        "    return a\n",
        "\n",
        "\n",
        "a = [1, 2, 3, 4, 2, 1, 3, 4, 3, 5, -2, -2, 2, -2, 65, 2, 2]\n",
        "foo(a)\n"
      ],
      "execution_count": null,
      "outputs": [
        {
          "output_type": "execute_result",
          "data": {
            "text/plain": [
              "[-2, -2, -2, 1, 1, 2, 2, 2, 2, 2, 3, 3, 3, 4, 4, 5, 65]"
            ]
          },
          "metadata": {
            "tags": []
          },
          "execution_count": 16
        }
      ]
    },
    {
      "cell_type": "code",
      "metadata": {
        "id": "14jK8Mgr5yN3"
      },
      "source": [
        "# Программирование на языке высокого уровня (Python).\n",
        "# https://www.yuripetrov.ru/edu/python\n",
        "# Задание task_06_02_02.\n",
        "#\n",
        "# Выполнил: Алексейчук А. А.\n",
        "# Группа: АДЭУ-201\n",
        "# E-mail: !!!\n",
        "\n",
        "\n",
        "def foo(i):\n",
        "    \"\"\"Алгоритм: выводит то же самое число\n",
        "\n",
        "    Параметры:\n",
        "        - i (int): число.\n",
        "\n",
        "    Сложность: O(N) + O(1) = O(N)\n",
        "    \"\"\"\n",
        "    digits = \"0123456789\"\n",
        "    if i == 0:            #O(1)\n",
        "        return \"0\"\n",
        "    result = \"\"\n",
        "    while i > 0:          #O(N)\n",
        "        result = digits[i%10] + result\n",
        "        i = i // 10\n",
        "    return result\n"
      ],
      "execution_count": null,
      "outputs": []
    },
    {
      "cell_type": "code",
      "metadata": {
        "id": "BsDh_yUyIwZ8"
      },
      "source": [
        "# Программирование на языке высокого уровня (Python).\n",
        "# https://www.yuripetrov.ru/edu/python\n",
        "# Задание task_06_02_03.\n",
        "#\n",
        "# Выполнил: Алексейчук А. А.\n",
        "# Группа: АДЭУ-201\n",
        "# E-mail: !!!\n",
        "\n",
        "\n",
        "def foo(s):\n",
        "    \"\"\"Алгоритм: выводит сумму чисел, записанных в веденной строке\n",
        "\n",
        "    Сложность: O(N) * O(1) = O(N)\n",
        "    \"\"\"\n",
        "    val = 0\n",
        "    for c in s:           #O(N)\n",
        "        if c.isdigit():   #O(1)\n",
        "            val += int(c)\n",
        "    return val"
      ],
      "execution_count": null,
      "outputs": []
    },
    {
      "cell_type": "code",
      "metadata": {
        "id": "8ORsEYQ-KRYQ"
      },
      "source": [
        "# Программирование на языке высокого уровня (Python).\n",
        "# https://www.yuripetrov.ru/edu/python\n",
        "# Задание task_06_02_04.\n",
        "#\n",
        "# Выполнил: Алексейчук А. А.\n",
        "# Группа: АДЭУ-201\n",
        "# E-mail: !!!\n",
        "\n",
        "\n",
        "\n",
        "def foo(n):\n",
        "    \"\"\"Алгоритм: выводит все числа до введенного числа\n",
        "\n",
        "     Сложность: O(N) * (O(1) * O(1) + O(1))= 2* O(N)\n",
        "     \"\"\"\n",
        "    res = []\n",
        "    for i in range(1, n + 1):             #O(N)\n",
        "        divisors = 0\n",
        "        j = 2\n",
        "        while j < i and divisors == 0:    #O(1)\n",
        "            if i % j == 0:                #O(1)\n",
        "                divisors += 1\n",
        "            j += 1\n",
        "\n",
        "        if divisors == 0:                 #O(1)\n",
        "            res.append(i)\n",
        "\n",
        "    return res"
      ],
      "execution_count": null,
      "outputs": []
    },
    {
      "cell_type": "code",
      "metadata": {
        "id": "jm24TyEJK3vs"
      },
      "source": [
        "# Программирование на языке высокого уровня (Python).\n",
        "# https://www.yuripetrov.ru/edu/python\n",
        "# Задание task_06_02_05.\n",
        "#\n",
        "# Выполнил: Алексейчук А. А.\n",
        "# Группа: АДЭУ-201\n",
        "# E-mail: !!!\n",
        "\n",
        "\n",
        "\n",
        "\n",
        "def foo(nums):\n",
        "    \"\"\"Алгоритм: проверяет четность/нечетность элементов списка, если хотя бы один - четный,\n",
        "     то выводится True\n",
        "\n",
        "     Сложность: 1\n",
        "     \"\"\"\n",
        "    for x in nums:         #O(1)\n",
        "        if x % 2 == 0:     #O(1)\n",
        "            return True\n",
        "    else:\n",
        "        return False"
      ],
      "execution_count": null,
      "outputs": []
    },
    {
      "cell_type": "code",
      "metadata": {
        "id": "QfVidfCKL_-H"
      },
      "source": [
        "# Программирование на языке высокого уровня (Python).\n",
        "# https://www.yuripetrov.ru/edu/python\n",
        "# Задание task_06_02_06.\n",
        "#\n",
        "# Выполнил: Алексейчук А. А.\n",
        "# Группа: АДЭУ-201\n",
        "# E-mail: !!!\n",
        "\n",
        "def foo(nums):\n",
        "    \"\"\"Алгоритм: вычисляет сумму первого элемента и последнего элемента в квадрате\n",
        "\n",
        "     Сложность: О(1)\n",
        "     \"\"\"\n",
        "    return (nums[0] + nums[-1] ** 2)      #O(1)\n"
      ],
      "execution_count": null,
      "outputs": []
    }
  ]
}