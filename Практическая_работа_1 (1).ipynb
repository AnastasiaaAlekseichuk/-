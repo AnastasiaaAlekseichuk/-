{
  "nbformat": 4,
  "nbformat_minor": 0,
  "metadata": {
    "colab": {
      "name": "Практическая работа 1",
      "provenance": []
    },
    "kernelspec": {
      "name": "python3",
      "display_name": "Python 3"
    }
  },
  "cells": [
    {
      "cell_type": "markdown",
      "metadata": {
        "id": "1S4ArGbKPm1-"
      },
      "source": [
        "Практическая работа 1"
      ]
    },
    {
      "cell_type": "code",
      "metadata": {
        "id": "dHtd9PFzLSgv",
        "outputId": "5a9f37c1-595e-4923-f9c0-dd2b54652715",
        "colab": {
          "base_uri": "https://localhost:8080/",
          "height": 51
        }
      },
      "source": [
        "class Human:\n",
        "  def __init__(self, name, age, iq):\n",
        "    self.name = name\n",
        "    self.age = age\n",
        "    if self.age < 0:\n",
        "      print(\"Opps\")\n",
        "    self.iq = iq\n",
        "Human1=Human('Bob',35,89) #создали экземпляр класса\n",
        "print(Human1.name, Human1.age, Human1.iq) #вывли свойства\n",
        "Human2=Human('Tom',-6,78)\n",
        "\n"
      ],
      "execution_count": null,
      "outputs": [
        {
          "output_type": "stream",
          "text": [
            "Bob 35 89\n",
            "Opps\n"
          ],
          "name": "stdout"
        }
      ]
    },
    {
      "cell_type": "code",
      "metadata": {
        "id": "90s6_Gl5RkeW",
        "outputId": "76b3e71a-1221-407a-dd48-adb76d9c6609",
        "colab": {
          "base_uri": "https://localhost:8080/",
          "height": 51
        }
      },
      "source": [
        "class Point:\n",
        "  amount = 0\n",
        "  def __init__(self, *args):\n",
        "    if len(args) == 2:\n",
        "      self.x = args[0]\n",
        "      self.y = args[1]\n",
        "    else:\n",
        "      self.x = self.y = 0\n",
        "    Point.amount += 1\n",
        "  def __del__(self):\n",
        "    Point.amount -= 1\n",
        "  def distanse(self):\n",
        "    return(self.x ** 2 + self.y ** 2) ** 0.5\n",
        "  def __str__(self):\n",
        "    return '({}; {})'.format(self.x, self.y)\n",
        "p = Point(36, 42)\n",
        "print('Distance: ' , round(p.distanse(),2))\n",
        "print('Point:' ,p)\n"
      ],
      "execution_count": null,
      "outputs": [
        {
          "output_type": "stream",
          "text": [
            "Distance:  55.32\n",
            "Point: (36; 42)\n"
          ],
          "name": "stdout"
        }
      ]
    },
    {
      "cell_type": "code",
      "metadata": {
        "id": "B21P-mujVvLt",
        "outputId": "2107271b-6bfd-4411-fd8e-9cae1a03368e",
        "colab": {
          "base_uri": "https://localhost:8080/",
          "height": 136
        }
      },
      "source": [
        "from math import sqrt, pi\n",
        "class Circle:\n",
        "    def __init__(self,x,y, radius):\n",
        "        self.center = Point(x,y)\n",
        "        self.radius = radius\n",
        "        if self.radius < 0:\n",
        "            print(\"radius should be greater than 0\")\n",
        "    def  lencircle(self):\n",
        "        return 2 * pi * self.radius\n",
        "\n",
        "    def Square(self):\n",
        "        return pi* self.radius**2\n",
        "\n",
        "    def move (self,x,y):\n",
        "        self.center.x = x\n",
        "        self.center.y = y\n",
        "\n",
        "    def distance(self):\n",
        "        return sqrt(self.center.x**2 + self.center.y**2)\n",
        "  \n",
        "    def __str__(self):\n",
        "        if self.radius < 0:\n",
        "            return \"радиус должен быть больше 0\"\n",
        "        else:\n",
        "            return \"Circle: center: {}, radius: {}\" .format(self.center, self.radius)\n",
        "\n",
        "Circle1 = Circle(3,4,5) \n",
        "Circle2 = Circle(5, -5, -5)\n",
        "\n",
        "print('Длина окружности: ', round(Circle1.lencircle(), 2))\n",
        "print('Площадь окружности: ', round(Circle1.Square(), 2))\n",
        "print('Расстояние: ', round(Circle1.distance(), 2))\n",
        "Circle1.move(-20, 15)\n",
        "print('Расстояние после перемещения: ', round(Circle1.distance(), 2))\n",
        "\n",
        "print('Circle1:', Circle1)\n",
        "print('Circle2:', Circle2)"
      ],
      "execution_count": null,
      "outputs": [
        {
          "output_type": "stream",
          "text": [
            "radius should be greater than 0\n",
            "Длина окружности:  31.42\n",
            "Площадь окружности:  78.54\n",
            "Расстояние:  5.0\n",
            "Расстояние после перемещения:  25.0\n",
            "Circle1: Circle: center: (-20; 15), radius: 5\n",
            "Circle2: радиус должен быть больше 0\n"
          ],
          "name": "stdout"
        }
      ]
    }
  ]
}