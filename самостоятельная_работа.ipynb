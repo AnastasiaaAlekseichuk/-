{
  "nbformat": 4,
  "nbformat_minor": 0,
  "metadata": {
    "colab": {
      "name": "самостоятельная работа",
      "provenance": []
    },
    "kernelspec": {
      "name": "python3",
      "display_name": "Python 3"
    }
  },
  "cells": [
    {
      "cell_type": "code",
      "metadata": {
        "id": "Dwegr1heJf42",
        "outputId": "79320435-781d-438d-a575-e21b66f414d0",
        "colab": {
          "base_uri": "https://localhost:8080/",
          "height": 272
        }
      },
      "source": [
        "class Date:\n",
        "    def __init__(self, d, m, y):\n",
        "        self.day = d\n",
        "        self.month = m\n",
        "        self.year = y\n",
        "\n",
        "    def __del__(self):\n",
        "        print('Object was deleted')\n",
        "\n",
        "    def leap_year(self):\n",
        "        if self.year % 400 == 0:\n",
        "           return True\n",
        "        elif self.year % 100 == 0:\n",
        "           return False   \n",
        "        elif self.year % 4 == 0:\n",
        "           return True  \n",
        "        \n",
        "    def last_month_day(self):\n",
        "        if self.month in (1,3,5,7,8,10,12):\n",
        "           return 31\n",
        "        elif self.month == 2:\n",
        "            if self.leap_year():\n",
        "                return 29\n",
        "            else:\n",
        "                return 28    \n",
        "        else: \n",
        "           return 30\n",
        "\n",
        "    def next_day(self):\n",
        "        if self.day >= self.last_month_day():\n",
        "           self.day = 1\n",
        "           if self.month >= 12:\n",
        "               self.month = 1\n",
        "               self.year += 1\n",
        "           else:     \n",
        "               self.month += 1 \n",
        "        else:\n",
        "           self.day += 1      \n",
        "\n",
        "    def add_days(self, days):        \n",
        "        for i in range(days):\n",
        "            self.next_day()\n",
        "\n",
        "    def __str__(self):\n",
        "        return '{:0>2}.{:0>2}.{:0>4}'.format(self.day, self.month,self.year)        \n",
        "\n",
        "date1 = Date(20, 10, 2020)\n",
        "print('При прибавлении к 20.10.2020 5 дней должно получиться 25.10.2020')\n",
        "date1.add_days(5)\n",
        "print('Получилось: ', date1)\n",
        "\n",
        "date2 = Date(31, 12, 2000)\n",
        "print('При прибавлении к 31.12.2000 5 дней должен произойти переход к следующему месяцу следующего года')\n",
        "date2.add_days(5)\n",
        "print(date2)\n",
        "\n",
        "date3 = Date(28, 2, 1996)\n",
        "print('При прибавлении к 28.02.1996 5 дней должно учитываться, что 1996 - високосный год')\n",
        "date3.add_days(5)\n",
        "print(date3)\n",
        "\n",
        "d = int(input('Введите день месяца: '))\n",
        "m = int(input('Введите номер месяца: '))\n",
        "y = int(input('Введите год: '))\n",
        "\n",
        "date4 = Date(d, m, y)\n",
        "print('Вы ввели дату: ', date4)\n",
        "date4.add_days(5)\n",
        "print('Дата через 5 дней: ', date4)\n"
      ],
      "execution_count": null,
      "outputs": [
        {
          "output_type": "stream",
          "text": [
            "Object was deleted\n",
            "При прибавлении к 20.10.2020 5 дней должно получиться 25.10.2020\n",
            "Получилось:  25.10.2020\n",
            "Object was deleted\n",
            "При прибавлении к 31.12.2000 5 дней должен произойти переход к следующему месяцу следующего года\n",
            "05.01.2001\n",
            "Object was deleted\n",
            "При прибавлении к 28.02.1996 5 дней должно учитываться, что 1996 - високосный год\n",
            "04.03.1996\n",
            "Введите день месяца: 31\n",
            "Введите номер месяца: 3\n",
            "Введите год: 2019\n",
            "Object was deleted\n",
            "Вы ввели дату:  31.03.2019\n",
            "Дата через 5 дней:  05.04.2019\n"
          ],
          "name": "stdout"
        }
      ]
    }
  ]
}